{
  "nbformat": 4,
  "nbformat_minor": 0,
  "metadata": {
    "colab": {
      "name": "Copy of RecSys coursework 2020 template.ipynb",
      "provenance": [],
      "collapsed_sections": [
        "01uZX-wp9ivS",
        "Tbge_zse9qe1"
      ]
    },
    "kernelspec": {
      "name": "python3",
      "display_name": "Python 3"
    }
  },
  "cells": [
    {
      "cell_type": "markdown",
      "metadata": {
        "id": "THQFNe3zdt1f",
        "colab_type": "text"
      },
      "source": [
        "# Assessed Coursework Template Notebook\n",
        "\n",
        "This is the template notebook for the RecSys(H) 2020 coursework. It deals with data preparation and evaluation only.\n",
        "\n",
        "Please note:\n",
        " - use H1 text headings for grouping together blocks of cells. You can then hide these while working on other blocks\n",
        " - leave the cell output visible when you submit the notebook\n",
        "\n"
      ]
    },
    {
      "cell_type": "markdown",
      "metadata": {
        "id": "Ww--_kl9-ndn",
        "colab_type": "text"
      },
      "source": [
        "## Setup block\n",
        "\n",
        "Setup the data files, Python etc."
      ]
    },
    {
      "cell_type": "code",
      "metadata": {
        "id": "iFgYpbhh0tkX",
        "colab_type": "code",
        "outputId": "777eb486-fe36-4c8c-fd60-6c8f1adeff39",
        "colab": {
          "base_uri": "https://localhost:8080/",
          "height": 221
        }
      },
      "source": [
        "!rm -rf ratings* books* to_read* test*\n",
        "\n",
        "!curl -o ratings.csv \"http://www.dcs.gla.ac.uk/~craigm/recsysH/coursework/final-ratings.csv\" \n",
        "!curl -o books.csv \"http://www.dcs.gla.ac.uk/~craigm/recsysH/coursework/final-books.csv\"\n",
        "!curl -o to_read.csv \"http://www.dcs.gla.ac.uk/~craigm/recsysH/coursework/final-to_read.csv\"\n",
        "!curl -o test.csv \"http://www.dcs.gla.ac.uk/~craigm/recsysH/coursework/final-test.csv\""
      ],
      "execution_count": 0,
      "outputs": [
        {
          "output_type": "stream",
          "text": [
            "  % Total    % Received % Xferd  Average Speed   Time    Time     Time  Current\n",
            "                                 Dload  Upload   Total   Spent    Left  Speed\n",
            "100 7631k  100 7631k    0     0  4754k      0  0:00:01  0:00:01 --:--:-- 4757k\n",
            "  % Total    % Received % Xferd  Average Speed   Time    Time     Time  Current\n",
            "                                 Dload  Upload   Total   Spent    Left  Speed\n",
            "100 2366k  100 2366k    0     0  2655k      0 --:--:-- --:--:-- --:--:-- 2652k\n",
            "  % Total    % Received % Xferd  Average Speed   Time    Time     Time  Current\n",
            "                                 Dload  Upload   Total   Spent    Left  Speed\n",
            "100 7581k  100 7581k    0     0  6968k      0  0:00:01  0:00:01 --:--:-- 6968k\n",
            "  % Total    % Received % Xferd  Average Speed   Time    Time     Time  Current\n",
            "                                 Dload  Upload   Total   Spent    Left  Speed\n",
            "100 1895k  100 1895k    0     0  2146k      0 --:--:-- --:--:-- --:--:-- 2144k\n"
          ],
          "name": "stdout"
        }
      ]
    },
    {
      "cell_type": "code",
      "metadata": {
        "id": "1VpVnNrZ1EiX",
        "colab_type": "code",
        "outputId": "3472e5e2-cce0-4d98-b368-cc48310453f5",
        "colab": {
          "base_uri": "https://localhost:8080/",
          "height": 51
        }
      },
      "source": [
        "#Standard setup\n",
        "import pandas as pd\n",
        "import numpy as np\n",
        "import torch\n",
        "!pip install git+https://github.com/cmacdonald/spotlight.git@master#egg=spotlight\n",
        "from spotlight.interactions import Interactions\n"
      ],
      "execution_count": 0,
      "outputs": [
        {
          "output_type": "stream",
          "text": [
            "Requirement already satisfied: spotlight from git+https://github.com/cmacdonald/spotlight.git@master#egg=spotlight in /usr/local/lib/python3.6/dist-packages (0.1.6)\n",
            "Requirement already satisfied: torch>=0.4.0 in /usr/local/lib/python3.6/dist-packages (from spotlight) (1.4.0)\n"
          ],
          "name": "stdout"
        }
      ]
    },
    {
      "cell_type": "markdown",
      "metadata": {
        "id": "RtJO0e0m-hun",
        "colab_type": "text"
      },
      "source": [
        "# data preparation"
      ]
    },
    {
      "cell_type": "code",
      "metadata": {
        "id": "qKAb25iw1MYw",
        "colab_type": "code",
        "colab": {}
      },
      "source": [
        "#load in the csv files\n",
        "ratings_df = pd.read_csv(\"ratings.csv\")\n",
        "books_df = pd.read_csv(\"books.csv\")\n",
        "to_read_df = pd.read_csv(\"to_read.csv\")\n",
        "test = pd.read_csv(\"test.csv\")"
      ],
      "execution_count": 0,
      "outputs": []
    },
    {
      "cell_type": "code",
      "metadata": {
        "id": "W6rqfn53OhDC",
        "colab_type": "code",
        "colab": {}
      },
      "source": [
        "#cut down the number of items and users\n",
        "counts=ratings_df[ratings_df[\"book_id\"] < 2000].groupby([\"book_id\"]).count().reset_index()\n",
        "valid_books=counts[counts[\"user_id\"] >= 10][[\"book_id\"]]\n",
        "\n",
        "books_df = books_df.merge(valid_books, on=\"book_id\")\n",
        "ratings_df = ratings_df[ratings_df[\"user_id\"] < 2000].merge(valid_books, on=\"book_id\")\n",
        "to_read_df = to_read_df[to_read_df[\"user_id\"] < 2000].merge(valid_books, on=\"book_id\")\n",
        "test = test[test[\"user_id\"] < 2000].merge(valid_books, on=\"book_id\")"
      ],
      "execution_count": 0,
      "outputs": []
    },
    {
      "cell_type": "markdown",
      "metadata": {
        "id": "C7cgXhmYUXIn",
        "colab_type": "text"
      },
      "source": [
        "Here we construct the Interactions objects from `ratings.csv`, `to_read.csv` and `test.csv`. We manually specify the num_users and num_items parameters to all Interaction objects, in case the test set differs from your training sets."
      ]
    },
    {
      "cell_type": "code",
      "metadata": {
        "id": "15ClgJOdTTt1",
        "colab_type": "code",
        "outputId": "58583db9-8d70-4f37-d841-245aaf9e4e03",
        "colab": {
          "base_uri": "https://localhost:8080/",
          "height": 68
        }
      },
      "source": [
        "from collections import defaultdict\n",
        "from itertools import count\n",
        "\n",
        "from spotlight.cross_validation import random_train_test_split\n",
        "\n",
        "iid_map = defaultdict(count().__next__)\n",
        "\n",
        "\n",
        "rating_iids = np.array([iid_map[iid] for iid in ratings_df[\"book_id\"].values], dtype = np.int32)\n",
        "test_iids = np.array([iid_map[iid] for iid in test[\"book_id\"].values], dtype = np.int32)\n",
        "toread_iids = np.array([iid_map[iid] for iid in to_read_df[\"book_id\"].values], dtype = np.int32)\n",
        "\n",
        "\n",
        "uid_map = defaultdict(count().__next__)\n",
        "\n",
        "test_uids = np.array([uid_map[uid] for uid in test[\"user_id\"].values], dtype = np.int32)\n",
        "rating_uids = np.array([uid_map[uid] for uid in ratings_df[\"user_id\"].values], dtype = np.int32)\n",
        "toread_uids = np.array([uid_map[iid] for iid in to_read_df[\"user_id\"].values], dtype = np.int32)\n",
        "uid_rev_map = {v: k for k, v in uid_map.items()}\n",
        "iid_rev_map = {v: k for k, v in iid_map.items()}\n",
        "\n",
        "rating_dataset = Interactions(user_ids=rating_uids,\n",
        "                               item_ids=rating_iids,\n",
        "                               ratings=ratings_df[\"rating\"].values,\n",
        "                               num_users=len(uid_rev_map),\n",
        "                               num_items=len(iid_rev_map))\n",
        "\n",
        "toread_dataset = Interactions(user_ids=toread_uids,\n",
        "                               item_ids=toread_iids,\n",
        "                               num_users=len(uid_rev_map),\n",
        "                               num_items=len(iid_rev_map))\n",
        "\n",
        "test_dataset = Interactions(user_ids=test_uids,\n",
        "                               item_ids=test_iids,\n",
        "                               num_users=len(uid_rev_map),\n",
        "                               num_items=len(iid_rev_map))\n",
        "\n",
        "print(rating_dataset)\n",
        "print(toread_dataset)\n",
        "print(test_dataset)\n",
        "\n",
        "#here we define the validation set\n",
        "toread_dataset_train, validation = random_train_test_split(toread_dataset, random_state=np.random.seed(42))\n",
        "\n",
        "num_items = test_dataset.num_items\n",
        "num_users = test_dataset.num_users"
      ],
      "execution_count": 0,
      "outputs": [
        {
          "output_type": "stream",
          "text": [
            "<Interactions dataset (1999 users x 1826 items x 124762 interactions)>\n",
            "<Interactions dataset (1999 users x 1826 items x 135615 interactions)>\n",
            "<Interactions dataset (1999 users x 1826 items x 33917 interactions)>\n"
          ],
          "name": "stdout"
        }
      ]
    },
    {
      "cell_type": "markdown",
      "metadata": {
        "id": "Kt4I2C5DTUL5",
        "colab_type": "text"
      },
      "source": [
        "#Example code\n",
        "\n",
        "To evaluate soem of your hand-implemented recommender systems (e.g. Q1, Q4), you will need to instantiate objects that match the specification of a Spotlight model, which `mrr_score()` expects.\n",
        "\n",
        "\n",
        "Here is an example recommender object that returns 0 for each item, regardless of user."
      ]
    },
    {
      "cell_type": "code",
      "metadata": {
        "id": "s2eaxy_hakbC",
        "colab_type": "code",
        "outputId": "a2dad3de-dc54-48bc-9835-28d86cd03371",
        "colab": {
          "base_uri": "https://localhost:8080/",
          "height": 34
        }
      },
      "source": [
        "from spotlight.evaluation import mrr_score\n",
        "\n",
        "\n",
        "class dummymodel:\n",
        "  \n",
        "  def __init__(self, numitems):\n",
        "    self.predictions=np.zeros(numitems)\n",
        "  \n",
        "  #uid is the user we are requesting recommendations for;\n",
        "  #returns an array of scores, one for each item\n",
        "  def predict(self, uid):\n",
        "    #this model returns all zeros, regardless of userid\n",
        "    return( self.predictions )\n",
        "\n",
        "#lets evaluate how the effeciveness of dummymodel\n",
        "\n",
        "print(mrr_score(dummymodel(num_items), test_dataset, train=rating_dataset, k=100).mean())\n",
        "#as expected, a recommendation model that gives 0 scores for all items obtains a MRR score of 0\n",
        "\n"
      ],
      "execution_count": 0,
      "outputs": [
        {
          "output_type": "stream",
          "text": [
            "0.0\n"
          ],
          "name": "stdout"
        }
      ]
    },
    {
      "cell_type": "code",
      "metadata": {
        "id": "ZQTJOmS5dB3i",
        "colab_type": "code",
        "outputId": "03f2373d-18ac-4565-ef45-f1bcad38346b",
        "colab": {
          "base_uri": "https://localhost:8080/",
          "height": 51
        }
      },
      "source": [
        "\n",
        "#note that the latest copy of Craig's Spotlight displays a progress bar if you set verbose=True\n",
        "print(mrr_score(dummymodel(num_items), test_dataset, train=rating_dataset, k=100, verbose=True).mean())"
      ],
      "execution_count": 0,
      "outputs": [
        {
          "output_type": "stream",
          "text": [
            "1999it [00:00, 3033.41it/s]"
          ],
          "name": "stderr"
        },
        {
          "output_type": "stream",
          "text": [
            "0.0\n"
          ],
          "name": "stdout"
        },
        {
          "output_type": "stream",
          "text": [
            "\n"
          ],
          "name": "stderr"
        }
      ]
    },
    {
      "cell_type": "markdown",
      "metadata": {
        "id": "SyvGgW_3ZjLV",
        "colab_type": "text"
      },
      "source": [
        "# Question 1\n"
      ]
    },
    {
      "cell_type": "code",
      "metadata": {
        "id": "lzpr_RokUOHD",
        "colab_type": "code",
        "outputId": "4d8da178-5143-4ccf-a5a0-98fb5bbf177d",
        "colab": {
          "base_uri": "https://localhost:8080/",
          "height": 85
        }
      },
      "source": [
        "#Question 1 \n",
        "from spotlight.evaluation import mrr_score\n",
        "\n",
        "\n",
        "class average_model:\n",
        "  \n",
        "  def __init__(self, ratings_df):\n",
        "    temp =  ratings_df.groupby('book_id').agg({\"rating\" : np.mean})\n",
        "    x = np.zeros(len(temp))\n",
        "    for i,row in temp.iterrows():\n",
        "      place = iid_map.get(i)\n",
        "      x[place] += row['rating']\n",
        "    \n",
        "    self.predictions = x\n",
        "  \n",
        "  #returns an array of scores, one for each item\n",
        "  def predict(self, uid):\n",
        "    return(self.predictions)\n",
        "\n",
        "print(mrr_score(average_model(ratings_df), test_dataset, train=rating_dataset, k=100).mean())\n",
        "#as expected, a recommendation model that gives 0 scores for all items obtains a MRR score of 0\n",
        "\n",
        "class n_of_ratings_model:\n",
        "  \n",
        "  def __init__(self, books_df):\n",
        "    temp = books_df[['book_id','ratings_count']]\n",
        "    x = np.zeros(len(temp))\n",
        "    for _,row in temp.iterrows():\n",
        "      place = iid_map.get(row['book_id'])\n",
        "      x[place] += row['ratings_count']\n",
        "    self.predictions = x \n",
        "\n",
        "  #returns an array of scores, one for each item\n",
        "  def predict(self, uid):\n",
        "    return self.predictions\n",
        "\n",
        "print(mrr_score(n_of_ratings_model(books_df), test_dataset, train=rating_dataset, k=100).mean())\n",
        "\n",
        "class ratings_of_5_model:\n",
        "  \n",
        "  def __init__(self, books_df):\n",
        "    temp = books_df[['book_id','ratings_5']]\n",
        "    x = np.zeros(len(temp))\n",
        "    for _,row in temp.iterrows():\n",
        "      place = iid_map.get(row['book_id'])\n",
        "      x[place] += row['ratings_5']\n",
        "    self.predictions = x \n",
        "  #returns an array of scores, one for each item\n",
        "  def predict(self, uid):\n",
        "    return(self.predictions)\n",
        "\n",
        "print(mrr_score(ratings_of_5_model(books_df), test_dataset, train=rating_dataset, k=100).mean())\n",
        "\n",
        "\n",
        "class fraction_of_5_model:\n",
        "  \n",
        "  def __init__(self, books_df):\n",
        "    temp = books_df[['book_id','ratings_5','ratings_count']]\n",
        "    x = np.zeros(len(temp))\n",
        "    for _,row in temp.iterrows():\n",
        "      place = iid_map.get(row['book_id'])\n",
        "      x[place] += (row['ratings_5'] / row['ratings_count'])\n",
        "    self.predictions = x \n",
        "  #returns an array of scores, one for each item\n",
        "  def predict(self, uid):\n",
        "    return (self.predictions)\n",
        "\n",
        "print(mrr_score(fraction_of_5_model(books_df), test_dataset, train=rating_dataset, k=100).mean())\n"
      ],
      "execution_count": 0,
      "outputs": [
        {
          "output_type": "stream",
          "text": [
            "0.015052024168984034\n",
            "0.2396001188245477\n",
            "0.2409670879930144\n",
            "0.03415267465103555\n"
          ],
          "name": "stdout"
        }
      ]
    },
    {
      "cell_type": "markdown",
      "metadata": {
        "id": "01uZX-wp9ivS",
        "colab_type": "text"
      },
      "source": [
        "# Question2"
      ]
    },
    {
      "cell_type": "code",
      "metadata": {
        "id": "seDEpGZGUOvI",
        "colab_type": "code",
        "outputId": "4dfc4137-f22e-4271-8f8a-cf3b9b50fbb3",
        "colab": {
          "base_uri": "https://localhost:8080/",
          "height": 323
        }
      },
      "source": [
        "#Question 2\n",
        "from spotlight.factorization.explicit import ExplicitFactorizationModel\n",
        "from spotlight.factorization.implicit import ImplicitFactorizationModel\n",
        "\n",
        "latent_factors = [8,16,32,64]\n",
        "for lf in latent_factors:\n",
        "  explicit_model = ExplicitFactorizationModel(n_iter=5,embedding_dim=lf)\n",
        "  explicit_model.fit(rating_dataset)\n",
        "  print(\"Explicit Training with latent factor \"+str(lf))\n",
        "  print(mrr_score(explicit_model, validation,train=rating_dataset).mean()) \n",
        "\n",
        "best_score = 0\n",
        "latent_factor = 0\n",
        "for lf in latent_factors:\n",
        "  implicit_model = ImplicitFactorizationModel(n_iter=5,embedding_dim=lf, loss='bpr')\n",
        "  implicit_model.fit(rating_dataset)\n",
        "  print(\"Implicit Training with latent factor \"+str(lf))\n",
        "  temp_score = mrr_score(implicit_model, validation,train=rating_dataset).mean()\n",
        "  print(temp_score)\n",
        "  if temp_score>best_score:\n",
        "    latent_factor = lf\n",
        "    best_score = temp_score\n",
        "\n",
        "implicit_model_q2 = ImplicitFactorizationModel(n_iter=5,embedding_dim=latent_factor, loss='bpr')\n",
        "implicit_model_q2.fit(rating_dataset)\n",
        "impli_score = mrr_score(implicit_model_q2, test_dataset,train=rating_dataset)\n",
        "print(\"Best score of Implicit with %d latent factor\"%latent_factor)\n",
        "print(impli_score.mean())"
      ],
      "execution_count": 0,
      "outputs": [
        {
          "output_type": "stream",
          "text": [
            "Explicit Training with latent factor 8\n",
            "0.0011325106997943418\n",
            "Explicit Training with latent factor 16\n",
            "0.0020631347419741617\n",
            "Explicit Training with latent factor 32\n",
            "0.0034078547210112994\n",
            "Explicit Training with latent factor 64\n",
            "0.0017318182900974298\n",
            "Implicit Training with latent factor 8\n",
            "0.01282704844485735\n",
            "Implicit Training with latent factor 16\n",
            "0.01036391211478755\n",
            "Implicit Training with latent factor 32\n",
            "0.012024266101304621\n",
            "Implicit Training with latent factor 64\n",
            "0.01064599760197559\n",
            "Best score of Implicit with 8 latent factor\n",
            "0.3772791157483504\n"
          ],
          "name": "stdout"
        }
      ]
    },
    {
      "cell_type": "markdown",
      "metadata": {
        "id": "DwJQjDzQ9med",
        "colab_type": "text"
      },
      "source": [
        "# Question3"
      ]
    },
    {
      "cell_type": "code",
      "metadata": {
        "id": "QRuVzLY_UO_g",
        "colab_type": "code",
        "outputId": "dac8da72-1353-4047-a231-d8c9ab568717",
        "colab": {
          "base_uri": "https://localhost:8080/",
          "height": 476
        }
      },
      "source": [
        "#Question3\n",
        "import scipy.stats as st\n",
        "import torch.nn as nn\n",
        "\n",
        "latent_factors = [8,16,32,64]\n",
        "latent_factor = 0\n",
        "best_score = 0\n",
        "for lf in latent_factors:\n",
        "  implicit_model = ImplicitFactorizationModel(n_iter=5,embedding_dim=lf, loss='bpr')\n",
        "  implicit_model.fit(toread_dataset_train)\n",
        "  temp_score = mrr_score(implicit_model,validation,train=toread_dataset_train).mean()\n",
        "  print(\"Training with latent factor %d , score : %f\" % (lf,temp_score))\n",
        "  if temp_score >best_score:\n",
        "    latent_factor = lf\n",
        "    best_score = temp_score\n",
        "\n",
        "implicit_model_q3 = ImplicitFactorizationModel(n_iter=5,embedding_dim=lf, loss='bpr')\n",
        "implicit_model_q3.fit(toread_dataset_train)\n",
        "\n",
        "rrs = mrr_score(implicit_model_q3,test_dataset,train=toread_dataset_train)\n",
        "print(rrs.mean())\n",
        "RR_ranks = st.rankdata(-rrs, method='min')\n",
        "\n",
        "def tracksForUser(user,imodel, k=5):\n",
        "  ranks = st.rankdata(-imodel.predict(user)) \n",
        "  temp_list = []\n",
        "  for iid in np.argwhere(ranks <= k):\n",
        "    temp_list.append(iid_rev_map[iid.item(0)])\n",
        "  return np.array(temp_list)\n",
        "\n",
        "def countRatings(uid, rr):\n",
        "  print(\"User with id %d with RR %f had %d ratings\" %( uid, rr, len(test_iids[test_uids==uid])))\n",
        "  print(\"Books that have on shelf\")\n",
        "  book_list = to_read_df[to_read_df['user_id']==uid]['book_id']\n",
        "  book_list = books_df[books_df['book_id'].isin(book_list)]['title']\n",
        "  print(book_list)\n",
        "  temp_books_ids = tracksForUser(uid,implicit_model_q3)\n",
        "  print(\"Number of common : %d\" % len([value for value in temp_books_ids if value in book_list]))\n",
        "  print(\"Books that they will add to the shelf\")\n",
        "  print(books_df[books_df['book_id'].isin(temp_books_ids)]['title'])\n",
        "\n",
        "\n",
        "#countRatings(np.argwhere(RR_ranks==1).item(0), rrs[RR_ranks==1].item(0))\n",
        "countRatings(np.argwhere(RR_ranks==1).item(1), rrs[RR_ranks==1].item(1))\n"
      ],
      "execution_count": 0,
      "outputs": [
        {
          "output_type": "stream",
          "text": [
            "Training with latent factor 8 , score : 0.271651\n",
            "Training with latent factor 16 , score : 0.280970\n",
            "Training with latent factor 32 , score : 0.297165\n",
            "Training with latent factor 64 , score : 0.272945\n",
            "0.3286460690662792\n",
            "User with id 7 with RR 1.000000 had 21 ratings\n",
            "Books that have on shelf\n",
            "4                                        The Great Gatsby\n",
            "7                                  The Catcher in the Rye\n",
            "9                                     Pride and Prejudice\n",
            "12                                                   1984\n",
            "24      Harry Potter and the Deathly Hallows (Harry Po...\n",
            "                              ...                        \n",
            "1538     Something Wicked This Way Comes (Green Town, #2)\n",
            "1539                                      Song of Solomon\n",
            "1543           Shadow of the Hegemon (Ender's Shadow, #2)\n",
            "1763    The Elfstones of Shannara  (The Original Shann...\n",
            "1767                     Barrel Fever: Stories and Essays\n",
            "Name: title, Length: 82, dtype: object\n",
            "Number of common : 1\n",
            "Books that they will add to the shelf\n",
            "3       To Kill a Mockingbird\n",
            "4            The Great Gatsby\n",
            "7      The Catcher in the Rye\n",
            "13                Animal Farm\n",
            "112                  Catch-22\n",
            "Name: title, dtype: object\n"
          ],
          "name": "stdout"
        }
      ]
    },
    {
      "cell_type": "code",
      "metadata": {
        "id": "1q7kuk_Jds3o",
        "colab_type": "code",
        "outputId": "d9d20952-6b18-4d67-f5bb-b8f266f4fa49",
        "colab": {
          "base_uri": "https://localhost:8080/",
          "height": 1000
        }
      },
      "source": [
        "def tracksForUser(user,imodel, k=5):\n",
        "  ranks = st.rankdata(-imodel.predict(user))\n",
        "  temp_list = []\n",
        "  for iid in np.argwhere(ranks <= k):\n",
        "    item_id = iid.item(0)\n",
        "    temp_list.append(item_id)\n",
        "\n",
        "  return np.array(temp_list)\n",
        "\n",
        "intra_diversity_list = []\n",
        "users_temp_list = []\n",
        "for userid in uid_map.values():\n",
        "  users_temp_list.append(userid)\n",
        "  idds_list = tracksForUser(userid,implicit_model_q3)\n",
        "  mysum = 0\n",
        "  r=5\n",
        "  for i in range(5):\n",
        "    for j in range(i+1,5):\n",
        "      if i<=j:\n",
        "        cosine = nn.functional.cosine_similarity(\n",
        "              implicit_model_q3._net.item_embeddings.weight[idds_list[i]], \n",
        "            implicit_model_q3._net.item_embeddings.weight[idds_list[j]], \n",
        "            dim=0)\n",
        "        mysum += (1-cosine)\n",
        "  user_score = (2*mysum) / (r*(r-1))\n",
        "  intra_diversity_list.append(float(user_score))\n",
        "\n",
        "temp_list = zip(intra_diversity_list,users_temp_list)\n",
        "temp_list = sorted(temp_list,reverse=True)\n",
        "intra_diversity_list,temp_user_ids = zip(*temp_list)\n",
        "print(\"Books for Top5 User base on Intra-list with high scores\")\n",
        "for i in range(5):\n",
        "  temp_user_id = temp_user_ids[i]\n",
        "  temp_book_list = tracksForUser(temp_user_id,implicit_model_q3)\n",
        "  print(books_df[books_df['book_id'].isin(temp_book_list)]['title'])\n",
        "\n",
        "print(\"------------------------------\")\n",
        "print(\"Books for Top5 User base on Intra-list with low scores\")\n",
        "for temp_user_id in temp_user_ids[-5:]:\n",
        "  temp_book_list = tracksForUser(temp_user_id,implicit_model_q3)\n",
        "  print(books_df[books_df['book_id'].isin(temp_book_list)]['title'])"
      ],
      "execution_count": 0,
      "outputs": [
        {
          "output_type": "stream",
          "text": [
            "Books for Top5 User base on Intra-list with high scores\n",
            "8              Angels & Demons  (Robert Langdon, #1)\n",
            "107     Confessions of a Shopaholic (Shopaholic, #1)\n",
            "712         Brown Bear, Brown Bear, What Do You See?\n",
            "1088                        Let the Great World Spin\n",
            "1197                       The House on Mango Street\n",
            "Name: title, dtype: object\n",
            "316                                Orphan Train\n",
            "725     The Girls' Guide to Hunting and Fishing\n",
            "1214       Dead Witch Walking (The Hollows, #1)\n",
            "1360                        The Age of Miracles\n",
            "1385                                Love, Rosie\n",
            "Name: title, dtype: object\n",
            "65                                    Gone with the Wind\n",
            "160    The Return of the King (The Lord of the Rings,...\n",
            "366            The Subtle Knife (His Dark Materials, #2)\n",
            "603                                 The Forgotten Garden\n",
            "620           Dead as a Doornail (Sookie Stackhouse, #5)\n",
            "Name: title, dtype: object\n",
            "17      Harry Potter and the Prisoner of Azkaban (Harr...\n",
            "641                                               Freedom\n",
            "1591                 South of the Border, West of the Sun\n",
            "1643                                               NOS4A2\n",
            "Name: title, dtype: object\n",
            "198     Marley and Me: Life and Love With the World's ...\n",
            "244                                  Bridge to Terabithia\n",
            "798                                The Remains of the Day\n",
            "1197                            The House on Mango Street\n",
            "1364                                           Ham on Rye\n",
            "Name: title, dtype: object\n",
            "------------------------------\n",
            "Books for Top5 User base on Intra-list with low scores\n",
            "6                                            The Hobbit\n",
            "8                 Angels & Demons  (Robert Langdon, #1)\n",
            "9                                   Pride and Prejudice\n",
            "15     The Girl with the Dragon Tattoo (Millennium, #1)\n",
            "572                  Scarlet (The Lunar Chronicles, #2)\n",
            "Name: title, dtype: object\n",
            "6                                            The Hobbit\n",
            "8                 Angels & Demons  (Robert Langdon, #1)\n",
            "9                                   Pride and Prejudice\n",
            "15     The Girl with the Dragon Tattoo (Millennium, #1)\n",
            "572                  Scarlet (The Lunar Chronicles, #2)\n",
            "Name: title, dtype: object\n",
            "6                                             The Hobbit\n",
            "7                                 The Catcher in the Rye\n",
            "8                  Angels & Demons  (Robert Langdon, #1)\n",
            "9                                    Pride and Prejudice\n",
            "188    The Lord of the Rings (The Lord of the Rings, ...\n",
            "Name: title, dtype: object\n",
            "6                                           The Hobbit\n",
            "7                               The Catcher in the Rye\n",
            "8                Angels & Demons  (Robert Langdon, #1)\n",
            "9                                  Pride and Prejudice\n",
            "15    The Girl with the Dragon Tattoo (Millennium, #1)\n",
            "Name: title, dtype: object\n",
            "6                                 The Hobbit\n",
            "7                     The Catcher in the Rye\n",
            "8      Angels & Demons  (Robert Langdon, #1)\n",
            "9                        Pride and Prejudice\n",
            "572       Scarlet (The Lunar Chronicles, #2)\n",
            "Name: title, dtype: object\n"
          ],
          "name": "stdout"
        }
      ]
    },
    {
      "cell_type": "markdown",
      "metadata": {
        "id": "W2UM6fKqow78",
        "colab_type": "text"
      },
      "source": [
        "As we can see here from the results, the users with low Intra-list diversity scores are being suggest common books to read. Furthermore, the books are similair between them, meaning low diversity, since these users had low score in our list.\n",
        "In contrast to that , the top scoring users in our list, are being suggested different books and from different categories / athors. That's reasonable since our model try to suggest books that are have big diversity."
      ]
    },
    {
      "cell_type": "markdown",
      "metadata": {
        "id": "Tbge_zse9qe1",
        "colab_type": "text"
      },
      "source": [
        "# Question 4"
      ]
    },
    {
      "cell_type": "code",
      "metadata": {
        "id": "rOqD9rcOx3ab",
        "colab_type": "code",
        "outputId": "ebbda046-4afb-48b5-b941-6f2d5ff562e2",
        "colab": {
          "base_uri": "https://localhost:8080/",
          "height": 689
        }
      },
      "source": [
        "#Question4\n",
        "import matplotlib.pyplot as plt\n",
        "\n",
        "#Question 2 Model\n",
        "\n",
        "combsum_dataset = np.zeros(implicit_model_q2._num_items)\n",
        "for userid in uid_map.values():\n",
        "  combsum_dataset += implicit_model_q2.predict(userid)\n",
        "\n",
        "#Question 3 Model\n",
        "for userid in uid_map.values():\n",
        "  combsum_dataset += implicit_model_q3.predict(userid)\n",
        "\n",
        "#combsum_dataset = (q2_dataset*0.5) + (q3_dataset*0.5)\n",
        "class combSum_model:\n",
        "  \n",
        "  def __init__(self,combsum_dataset):\n",
        "    self.predictions = combsum_dataset\n",
        "  #returns an array of scores, one for each item\n",
        "  def predict(self, uid):\n",
        "    return(self.predictions)\n",
        "combsum_model  = combSum_model(combsum_dataset)\n",
        "after_scores = mrr_score(combsum_model,test_dataset)\n",
        "print(after_scores.mean())\n",
        "\n",
        "counter = 0\n",
        "for i,j in zip(rrs,after_scores):\n",
        "  if j>i:\n",
        "    counter += 1\n",
        "print(\"%d Users have been improved\"%counter)\n",
        "width = 0.2\n",
        "ind = np.arange(len(uid_map.values()))\n",
        "fg = plt.figure(figsize=(20, 10))\n",
        "ax = fg.add_axes([0.1, 0.1, 0.8, 0.8])\n",
        "ax.bar(ind - width / 2, rrs, width,\n",
        "       label='Simple Model Scores')\n",
        "ax.bar(ind + width / 2, after_scores, width,\n",
        "       label='CombSum Model Scores')\n",
        "\n",
        "ax.set_title('Simple Vs CombSum Model')\n",
        "ax.set_ylabel('Rating')\n",
        "ax.set_xticklabels(np.arange(0,2000,100))\n",
        "ax.legend()\n",
        "plt.xticks(np.arange(0,2000,100), rotation=90)\n",
        "plt.show()"
      ],
      "execution_count": 0,
      "outputs": [
        {
          "output_type": "stream",
          "text": [
            "0.17555523793642852\n",
            "354 Users have been improved\n"
          ],
          "name": "stdout"
        },
        {
          "output_type": "display_data",
          "data": {
            "image/png": "[encoded data removed]",
            "text/plain": [
              "<Figure size 1440x720 with 1 Axes>"
            ]
          },
          "metadata": {
            "tags": []
          }
        }
      ]
    },
    {
      "cell_type": "markdown",
      "metadata": {
        "id": "iP90z4ddPW7s",
        "colab_type": "text"
      },
      "source": [
        "# Question 5\n",
        "\n"
      ]
    },
    {
      "cell_type": "markdown",
      "metadata": {
        "id": "Iue83i-4_jAj",
        "colab_type": "text"
      },
      "source": [
        "Part of the below code , was produced based on the Lab_1's solution."
      ]
    },
    {
      "cell_type": "code",
      "metadata": {
        "id": "CFfs_50i8VeV",
        "colab_type": "code",
        "colab": {}
      },
      "source": [
        "\n",
        "# pairswithcounts gives is the frequency of (X AND Y). \n",
        "#We therefore need the counts of movies\n",
        "positives=ratings_df[ratings_df[\"rating\"]>=4]\n",
        "#join positives with itself on userId to get all pairs of movies watched by a given user.\n",
        "pairs=pd.merge(positives, positives, on=[\"user_id\"])\n",
        "pairs = pairs.query(\"book_id_x != book_id_y\")\n",
        "#lets count the frequency of each pair of movies.\n",
        "paircounts=pairs[[\"book_id_x\", \"book_id_y\", \"user_id\"]].groupby([\"book_id_x\", \"book_id_y\"]).count()\n",
        "\n",
        "#sort by the most popular pairs.\n",
        "pairswithcounts = paircounts.reset_index().rename(columns={\"user_id\" : \"count\"}).sort_values(['count'], ascending=False)\n",
        "\n",
        "bookCounts = positives.groupby([\"book_id\"]).count()[[\"user_id\"]].reset_index().rename(columns={\"user_id\" : \"ratingCount\"})\n",
        "\n",
        "#lets puts all the information in the sample dataframe.\n",
        "allstats = pairswithcounts.merge(bookCounts, left_on=\"book_id_x\", right_on=\"book_id\").merge(bookCounts, left_on=\"book_id_y\", right_on=\"book_id\")\n",
        "\n",
        "#and drop out some unused columns\n",
        "allstats = allstats[[\"book_id_x\",\t\"book_id_y\",\t\"count\", \"ratingCount_x\", \"ratingCount_y\"]]\n",
        "allstats = allstats.loc[:,~allstats.columns.duplicated()]\n",
        "\n",
        "#to calculate probabilites we need a denominator. I used the number of total ratings\n",
        "num=float(ratings_df.count()[\"rating\"])\n",
        "\n",
        "#we can then perform artihmetic on columns\n",
        "allstats[\"lift\"] = (allstats[\"count\"] / num ) / ( (allstats[\"ratingCount_x\"] / num) * (allstats[\"ratingCount_y\"] / num))\n",
        "\n",
        "allstats = allstats.query(\"book_id_x != book_id_y\")\n",
        "allstats['loglift'] = np.log(allstats['lift'])\n",
        "allstats.sort_values(['loglift'], ascending=False)\n",
        "\n",
        "def dict_create(allstats,support_threshhold):\n",
        "  temp_allstats = allstats[allstats['count']>support_threshhold]\n",
        "  stats_dict = {}\n",
        "  for _,row in temp_allstats.iterrows():\n",
        "    stats_dict[(row['book_id_x'],row['book_id_y'])] = row['loglift']\n",
        "  return stats_dict"
      ],
      "execution_count": 0,
      "outputs": []
    },
    {
      "cell_type": "code",
      "metadata": {
        "id": "p-7k34bhSLlt",
        "colab_type": "code",
        "outputId": "1876f987-567c-4b11-93c3-d45346d47804",
        "colab": {
          "base_uri": "https://localhost:8080/",
          "height": 34
        }
      },
      "source": [
        "\n",
        "class Pair_Recommender:\n",
        "  \n",
        "  def __init__(self, stats_dict):\n",
        "    self.stats_dict = stats_dict\n",
        "  #uid is the user we are requesting recommendations for;\n",
        "  #returns an array of scores, one for each item\n",
        "  def predict(self, id):\n",
        "    uid = uid_rev_map.get(id)\n",
        "    item_scores = np.zeros(len(iid_map.keys()))\n",
        "    rate_temp_user = ratings_df.loc[ratings_df['user_id']==uid] # books_id that user has read\n",
        "    positive_rate_user = rate_temp_user.loc[rate_temp_user['rating']>=4]['book_id'] #books_ id that user has positevily rate\n",
        "    for iid in iid_map.keys():\n",
        "      if iid not in rate_temp_user['book_id']:\n",
        "        for iid2 in positive_rate_user:\n",
        "          if (iid,iid2) in self.stats_dict.keys():\n",
        "            item_scores[iid_map.get(iid)] += self.stats_dict[(iid,iid2)]\n",
        "    return item_scores\n",
        "\n",
        "pair_recommender = Pair_Recommender(dict_create(allstats,0))\n",
        "pair_score = mrr_score(pair_recommender,validation,train=rating_dataset)\n",
        "print(pair_score.mean())"
      ],
      "execution_count": 0,
      "outputs": [
        {
          "output_type": "stream",
          "text": [
            "0.010249172205150195\n"
          ],
          "name": "stdout"
        }
      ]
    },
    {
      "cell_type": "code",
      "metadata": {
        "id": "9SpBJx8RKlgS",
        "colab_type": "code",
        "outputId": "7e0f8290-891c-4d81-ad95-450d3001adb1",
        "colab": {
          "base_uri": "https://localhost:8080/",
          "height": 449
        }
      },
      "source": [
        "import time\n",
        "x = []\n",
        "y = []\n",
        "for i in range(0,250,50):\n",
        "  print(i)\n",
        "  x.append(i)\n",
        "  start_time = time.time()\n",
        "  pair_recommender = Pair_Recommender(dict_create(allstats,i))\n",
        "  pair_score = mrr_score(pair_recommender,validation,train=rating_dataset)\n",
        "  mmean = pair_score.mean()\n",
        "  print(mmean)\n",
        "  y.append(mmean)\n",
        "\n",
        "plt.plot(x,y)\n",
        "plt.ylabel(\"Performance\")\n",
        "plt.xlabel(\"Support Treshhold\")\n",
        "plt.show()\n"
      ],
      "execution_count": 0,
      "outputs": [
        {
          "output_type": "stream",
          "text": [
            "0\n",
            "0.010249172205150195\n",
            "50\n",
            "0.006400620945393331\n",
            "100\n",
            "0.010195375465510534\n",
            "150\n",
            "0.0073328330832082705\n",
            "200\n",
            "0.0026263131565782893\n"
          ],
          "name": "stdout"
        },
        {
          "output_type": "display_data",
          "data": {
            "image/png": "[encoded data removed]",
            "text/plain": [
              "<Figure size 432x288 with 1 Axes>"
            ]
          },
          "metadata": {
            "tags": []
          }
        }
      ]
    },
    {
      "cell_type": "code",
      "metadata": {
        "id": "SSmg-uh68Ph6",
        "colab_type": "code",
        "outputId": "7a06ad40-7c11-42aa-fde8-ab691df043a3",
        "colab": {
          "base_uri": "https://localhost:8080/",
          "height": 34
        }
      },
      "source": [
        "temp_allstats = allstats\n",
        "impli_score = mrr_score(implicit_model_q2, test_dataset,train=rating_dataset)\n",
        "pair_recommender =Pair_Recommender(dict_create(allstats,0))\n",
        "pair_score = mrr_score(pair_recommender,test_dataset,train=rating_dataset)\n",
        "print(pair_score.mean())"
      ],
      "execution_count": 0,
      "outputs": [
        {
          "output_type": "stream",
          "text": [
            "0.34997141427856787\n"
          ],
          "name": "stdout"
        }
      ]
    },
    {
      "cell_type": "markdown",
      "metadata": {
        "id": "5IRfQ0z11Ehv",
        "colab_type": "text"
      },
      "source": [
        "# Question 6\n",
        "\n"
      ]
    },
    {
      "cell_type": "code",
      "metadata": {
        "id": "sa32-ZUl1H_b",
        "colab_type": "code",
        "outputId": "b51533a8-7654-44bf-de90-3fa9b04873e7",
        "colab": {
          "base_uri": "https://localhost:8080/",
          "height": 68
        }
      },
      "source": [
        "class CombSum:\n",
        "  \n",
        "  def __init__(self,models,weights):\n",
        "    self.weights = weights\n",
        "    self.models = models\n",
        "  #returns an array of scores, one for each item\n",
        "\n",
        "  def predict(self, uid):\n",
        "    x = np.zeros(self.models[1]._num_items)\n",
        "    for i,m in enumerate(self.models):\n",
        "      x += (self.weights[i]*m.predict(uid))\n",
        "    return(x)\n",
        "    \n",
        "weight_list =[[0.5,0.1,0.4],[0.4,0.2,0.4,],[0.33,0.33,0.33]]\n",
        "for weights in weight_list:\n",
        "  combSum  = CombSum([implicit_model_q2,implicit_model_q3,Pair_Recommender(dict_create(allstats,100))],weights)\n",
        "  after_scores = mrr_score(combSum,validation,train=rating_dataset)\n",
        "  print(after_scores.mean())\n",
        "\n"
      ],
      "execution_count": 0,
      "outputs": [
        {
          "output_type": "stream",
          "text": [
            "0.012717866869942907\n",
            "0.012050072655375306\n",
            "0.011875977671375371\n"
          ],
          "name": "stdout"
        }
      ]
    },
    {
      "cell_type": "code",
      "metadata": {
        "id": "VlUB3deJFtI7",
        "colab_type": "code",
        "outputId": "73b0b3fa-2021-40fa-be3b-0f023a3e3f8c",
        "colab": {
          "base_uri": "https://localhost:8080/",
          "height": 34
        }
      },
      "source": [
        "combSum  = CombSum([implicit_model_q2,implicit_model_q3,Pair_Recommender(dict_create(allstats,100))],[0.5,0.1,0.4])\n",
        "after_scores = mrr_score(combSum,test_dataset,train=rating_dataset)\n",
        "print(after_scores.mean())"
      ],
      "execution_count": 0,
      "outputs": [
        {
          "output_type": "stream",
          "text": [
            "0.4383612441141206\n"
          ],
          "name": "stdout"
        }
      ]
    }
  ]
}